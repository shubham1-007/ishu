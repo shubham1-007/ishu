{
 "cells": [
  {
   "cell_type": "code",
   "execution_count": 1,
   "id": "fb887a05",
   "metadata": {},
   "outputs": [
    {
     "name": "stdout",
     "output_type": "stream",
     "text": [
      "10\n",
      "Antibody that can heal damaged data:  [0.68871522 1.05600996 0.7764093 ]\n"
     ]
    }
   ],
   "source": [
    "import numpy as np\n",
    "\n",
    "def create_antibody(size):\n",
    "  return np.random.rand(size) \n",
    "\n",
    "# Affinity (closeness)\n",
    "def affinity(antibody, datapoint):\n",
    "  distance = np.linalg.norm(antibody - datapoint)     #calculating euclidean distance\n",
    "  return 1 / (1 + distance)\n",
    "\n",
    "def get_key(pair):\n",
    "   return pair[1]\n",
    "\n",
    "size = 3\n",
    "healthy_data = np.array([[1.0, 2.0, 3.0], [1.1, 1.9, 3.2]])     # 2 x 3\n",
    "num_antibodies = 10\n",
    "antibody_population = []\n",
    "for i in range(num_antibodies):\n",
    "    antibody_population.append(create_antibody(size))\n",
    "\n",
    "# Simulate sensor data with potential damage (replace with actual data)\n",
    "damaged_data = np.array([[1.2, 1.7, 2.8], [1.4, 1.5, 3.5]])\n",
    "\n",
    "for i in range(2):\n",
    "    healthy_affinities = []\n",
    "    for ab in antibody_population:\n",
    "       for datapoint in healthy_data:\n",
    "          healthy_affinities.append(affinity(ab, datapoint))\n",
    "\n",
    "    # Select top 'n' antibodies based on affinity (healthy data)\n",
    "    top_antibodies = []\n",
    "    for i in range(len(antibody_population)):\n",
    "        pair = [antibody_population[i], healthy_affinities[i]]\n",
    "        top_antibodies.append(pair)\n",
    "    top_antibodies.sort(key = get_key, reverse=True)\n",
    "    top_antibodies = top_antibodies[0:5]\n",
    "\n",
    "    # Clone and introduce random mutations (simplified)\n",
    "    new_population = []\n",
    "    for ab, i in top_antibodies:\n",
    "        new_population.append(ab + create_antibody(size) * 0.1)  # Introduce small mutation\n",
    "        antibody_population = new_population \n",
    "\n",
    "# Update antibody population\n",
    "antibody_population.extend(new_population)\n",
    "\n",
    "# Check affinity for damaged data\n",
    "damaged_affinities = []\n",
    "for datapoint in damaged_data:\n",
    "  for ab in antibody_population:\n",
    "      damaged_affinities.append(affinity(ab, datapoint))\n",
    "\n",
    "# Identify potential damage based on high affinity for damaged data\n",
    "potential_damage_index = damaged_affinities.index(max(damaged_affinities))\n",
    "\n",
    "print(len(antibody_population))\n",
    "print(\"Antibody that can heal damaged data: \", antibody_population[potential_damage_index])"
   ]
  },
  {
   "cell_type": "code",
   "execution_count": null,
   "id": "c4385aa9",
   "metadata": {},
   "outputs": [],
   "source": []
  }
 ],
 "metadata": {
  "kernelspec": {
   "display_name": "Python 3 (ipykernel)",
   "language": "python",
   "name": "python3"
  },
  "language_info": {
   "codemirror_mode": {
    "name": "ipython",
    "version": 3
   },
   "file_extension": ".py",
   "mimetype": "text/x-python",
   "name": "python",
   "nbconvert_exporter": "python",
   "pygments_lexer": "ipython3",
   "version": "3.10.11"
  }
 },
 "nbformat": 4,
 "nbformat_minor": 5
}
