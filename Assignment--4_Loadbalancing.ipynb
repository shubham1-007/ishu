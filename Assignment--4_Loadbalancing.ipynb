{
 "cells": [
  {
   "cell_type": "code",
   "execution_count": 1,
   "id": "57a7ed6c",
   "metadata": {},
   "outputs": [
    {
     "name": "stdout",
     "output_type": "stream",
     "text": [
      "Processing request 'Request 1' on server 'Server 1'\n",
      "Processing request 'Request 2' on server 'Server 2'\n",
      "Processing request 'Request 3' on server 'Server 3'\n",
      "Processing request 'Request 4' on server 'Server 1'\n",
      "Processing request 'Request 5' on server 'Server 2'\n"
     ]
    }
   ],
   "source": [
    "class LoadBalancer:\n",
    "    def __init__(self, servers):\n",
    "        \"\"\"\n",
    "        Initialize the LoadBalancer with a list of servers.\n",
    "        \"\"\"\n",
    "        self.servers = servers\n",
    "        self.current_server_index = 0\n",
    "\n",
    "    def distribute_request(self):\n",
    "        \"\"\"\n",
    "        Distribute incoming requests among servers using a round-robin algorithm.\n",
    "        \"\"\"\n",
    "        server = self.servers[self.current_server_index]\n",
    "        self.current_server_index = (self.current_server_index + 1) % len(self.servers)\n",
    "        return server\n",
    "\n",
    "class Server:\n",
    "    def __init__(self, name):\n",
    "        \"\"\"\n",
    "        Initialize the Server with a name.\n",
    "        \"\"\"\n",
    "        self.name = name\n",
    "\n",
    "    def process_request(self, request):\n",
    "        \"\"\"\n",
    "        Process a request received by the server.\n",
    "        \"\"\"\n",
    "        print(f\"Processing request '{request}' on server '{self.name}'\")\n",
    "\n",
    "# Creating servers\n",
    "server1 = Server(\"Server 1\")\n",
    "server2 = Server(\"Server 2\")\n",
    "server3 = Server(\"Server 3\")\n",
    "\n",
    "# Creating a load balancer with the servers\n",
    "load_balancer = LoadBalancer([server1, server2, server3])\n",
    "\n",
    "# Simulating incoming requests\n",
    "requests = [\"Request 1\", \"Request 2\", \"Request 3\", \"Request 4\", \"Request 5\"]\n",
    "\n",
    "for request in requests:\n",
    "    # Distribute the request among servers using the load balancer\n",
    "    server = load_balancer.distribute_request()\n",
    "    # Process the request on the selected server\n",
    "    server.process_request(request)"
   ]
  },
  {
   "cell_type": "code",
   "execution_count": null,
   "id": "d544da3d",
   "metadata": {},
   "outputs": [],
   "source": []
  }
 ],
 "metadata": {
  "kernelspec": {
   "display_name": "Python 3 (ipykernel)",
   "language": "python",
   "name": "python3"
  },
  "language_info": {
   "codemirror_mode": {
    "name": "ipython",
    "version": 3
   },
   "file_extension": ".py",
   "mimetype": "text/x-python",
   "name": "python",
   "nbconvert_exporter": "python",
   "pygments_lexer": "ipython3",
   "version": "3.10.11"
  }
 },
 "nbformat": 4,
 "nbformat_minor": 5
}
