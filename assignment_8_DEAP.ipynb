{
 "cells": [
  {
   "cell_type": "code",
   "execution_count": 1,
   "id": "1868910f",
   "metadata": {},
   "outputs": [
    {
     "name": "stdout",
     "output_type": "stream",
     "text": [
      "100\n"
     ]
    }
   ],
   "source": [
    "import random\n",
    "from deap import creator, base, tools, algorithms\n",
    "\n",
    "# Create a maximization fitness class\n",
    "creator.create(\"FitnessMax\", base.Fitness, weights=(1.0,))\n",
    "# Create an individual class representing a list of binary values\n",
    "creator.create(\"Individual\", list, fitness=creator.FitnessMax)\n",
    "\n",
    "# Create a toolbox to register functions\n",
    "toolbox = base.Toolbox()\n",
    "\n",
    "# Register a function to generate a random binary attribute\n",
    "toolbox.register(\"attr_bool\", random.randint, 0, 1)\n",
    "# Register a function to create an individual with 'n' binary attributes\n",
    "toolbox.register(\"individual\", tools.initRepeat, creator.Individual, toolbox.attr_bool, n=100)\n",
    "# Register a function to create a population of individuals\n",
    "toolbox.register(\"population\", tools.initRepeat, list, toolbox.individual)\n",
    "\n",
    "# Define the evaluation function to evaluate the fitness of an individual\n",
    "def evalOneMax(individual):\n",
    "    return sum(individual),\n",
    "\n",
    "toolbox.register(\"evaluate\", evalOneMax)\n",
    "# Register genetic operators: crossover, mutation, and selection\n",
    "toolbox.register(\"mate\", tools.cxTwoPoint)\n",
    "toolbox.register(\"mutate\", tools.mutFlipBit, indpb=0.05)\n",
    "toolbox.register(\"select\", tools.selTournament, tournsize=3)\n",
    "\n",
    "# Create an initial population of individuals\n",
    "population = toolbox.population(n=300)\n",
    "\n",
    "# Define the number of generations\n",
    "NGEN=40\n",
    "# Evolution loop\n",
    "for gen in range(NGEN):\n",
    "    # Generate offspring by applying crossover and mutation to the population\n",
    "    offspring = algorithms.varAnd(population, toolbox, cxpb=0.5, mutpb=0.1)\n",
    "    # Evaluate the fitness of each offspring\n",
    "    fits = toolbox.map(toolbox.evaluate, offspring)\n",
    "    # Assign the fitness values to the offspring\n",
    "    for fit, ind in zip(fits, offspring):\n",
    "        ind.fitness.values = fit\n",
    "    # Select the next generation based on fitness\n",
    "    population = toolbox.select(offspring, k=len(population))\n",
    "# Select the top 10 individuals with the highest fitness\n",
    "top10 = tools.selBest(population, k=10)\n",
    "# Print the length of the first individual in the top 10 list\n",
    "print(len(top10[0]))"
   ]
  },
  {
   "cell_type": "code",
   "execution_count": null,
   "id": "d633c6c3",
   "metadata": {},
   "outputs": [],
   "source": []
  }
 ],
 "metadata": {
  "kernelspec": {
   "display_name": "Python 3 (ipykernel)",
   "language": "python",
   "name": "python3"
  },
  "language_info": {
   "codemirror_mode": {
    "name": "ipython",
    "version": 3
   },
   "file_extension": ".py",
   "mimetype": "text/x-python",
   "name": "python",
   "nbconvert_exporter": "python",
   "pygments_lexer": "ipython3",
   "version": "3.10.11"
  }
 },
 "nbformat": 4,
 "nbformat_minor": 5
}
